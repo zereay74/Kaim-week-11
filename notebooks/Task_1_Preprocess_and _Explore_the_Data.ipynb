{
 "cells": [
  {
   "cell_type": "code",
   "execution_count": 17,
   "metadata": {},
   "outputs": [],
   "source": [
    "import os\n",
    "import sys\n",
    "sys.path.append(os.path.abspath('..')) # add parent path to working directory"
   ]
  },
  {
   "cell_type": "code",
   "execution_count": 18,
   "metadata": {},
   "outputs": [
    {
     "data": {
      "text/plain": [
       "<module 'scripts.yf_data_fetch' from 'c:\\\\ML and DS Files\\\\Kifiya AI\\\\Kaim-week-11\\\\scripts\\\\yf_data_fetch.py'>"
      ]
     },
     "execution_count": 18,
     "metadata": {},
     "output_type": "execute_result"
    }
   ],
   "source": [
    "from importlib import reload\n",
    "from scripts import yf_data_fetch\n",
    "reload(yf_data_fetch)"
   ]
  },
  {
   "cell_type": "code",
   "execution_count": 19,
   "metadata": {},
   "outputs": [],
   "source": [
    "from scripts.yf_data_fetch import StockDataFetcher"
   ]
  },
  {
   "cell_type": "markdown",
   "metadata": {},
   "source": [
    "# Fetch data from yfinance"
   ]
  },
  {
   "cell_type": "code",
   "execution_count": 20,
   "metadata": {},
   "outputs": [],
   "source": [
    "# instantiate object\n",
    "tickers = [\"TSLA\", \"BND\", \"SPY\"]\n",
    "fetcher = StockDataFetcher(tickers)"
   ]
  },
  {
   "cell_type": "code",
   "execution_count": 21,
   "metadata": {},
   "outputs": [
    {
     "name": "stdout",
     "output_type": "stream",
     "text": [
      "2025-02-26 21:04:00,052 - INFO - Fetching data for TSLA from 2015-01-01 to 2025-01-31...\n"
     ]
    },
    {
     "name": "stderr",
     "output_type": "stream",
     "text": [
      "[*********************100%***********************]  1 of 1 completed"
     ]
    },
    {
     "name": "stdout",
     "output_type": "stream",
     "text": [
      "2025-02-26 21:04:00,197 - INFO - Fetching data for BND from 2015-01-01 to 2025-01-31...\n"
     ]
    },
    {
     "name": "stderr",
     "output_type": "stream",
     "text": [
      "\n",
      "[*********************100%***********************]  1 of 1 completed"
     ]
    },
    {
     "name": "stdout",
     "output_type": "stream",
     "text": [
      "2025-02-26 21:04:00,324 - INFO - Fetching data for SPY from 2015-01-01 to 2025-01-31...\n"
     ]
    },
    {
     "name": "stderr",
     "output_type": "stream",
     "text": [
      "\n",
      "[*********************100%***********************]  1 of 1 completed\n"
     ]
    }
   ],
   "source": [
    "# fetch data\n",
    "stock_data = fetcher.fetch_data()"
   ]
  },
  {
   "cell_type": "code",
   "execution_count": 22,
   "metadata": {},
   "outputs": [
    {
     "name": "stdout",
     "output_type": "stream",
     "text": [
      "Price           Close       High        Low       Open    Volume\n",
      "Ticker           TSLA       TSLA       TSLA       TSLA      TSLA\n",
      "Date                                                            \n",
      "2015-01-02  14.620667  14.883333  14.217333  14.858000  71466000\n",
      "2015-01-05  14.006000  14.433333  13.810667  14.303333  80527500\n",
      "2015-01-06  14.085333  14.280000  13.614000  14.004000  93928500\n",
      "2015-01-07  14.063333  14.318667  13.985333  14.223333  44526000\n",
      "2015-01-08  14.041333  14.253333  14.000667  14.187333  51637500\n"
     ]
    }
   ],
   "source": [
    "# Display first few rows of Tesla data\n",
    "print(stock_data[\"TSLA\"].head())"
   ]
  },
  {
   "cell_type": "code",
   "execution_count": 23,
   "metadata": {},
   "outputs": [
    {
     "name": "stdout",
     "output_type": "stream",
     "text": [
      "2025-02-26 21:04:00,575 - INFO - Data for TSLA saved to ../week 11 data/TSLA.csv\n",
      "2025-02-26 21:04:00,612 - INFO - Data for BND saved to ../week 11 data/BND.csv\n",
      "2025-02-26 21:04:00,651 - INFO - Data for SPY saved to ../week 11 data/SPY.csv\n"
     ]
    }
   ],
   "source": [
    "# Save data to CSV files\n",
    "fetcher.save_to_csv(stock_data)"
   ]
  }
 ],
 "metadata": {
  "kernelspec": {
   "display_name": "z_env",
   "language": "python",
   "name": "python3"
  },
  "language_info": {
   "codemirror_mode": {
    "name": "ipython",
    "version": 3
   },
   "file_extension": ".py",
   "mimetype": "text/x-python",
   "name": "python",
   "nbconvert_exporter": "python",
   "pygments_lexer": "ipython3",
   "version": "3.12.3"
  }
 },
 "nbformat": 4,
 "nbformat_minor": 2
}
