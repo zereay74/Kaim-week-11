{
 "cells": [
  {
   "cell_type": "code",
   "execution_count": 100,
   "metadata": {},
   "outputs": [],
   "source": [
    "import os\n",
    "import sys\n",
    "sys.path.append(os.path.abspath('..')) # add parent path to working directory"
   ]
  },
  {
   "cell_type": "code",
   "execution_count": 101,
   "metadata": {},
   "outputs": [
    {
     "data": {
      "text/plain": [
       "<module 'scripts.portfolio_optimization' from 'c:\\\\ML and DS Files\\\\Kifiya AI\\\\Kaim-week-11\\\\scripts\\\\portfolio_optimization.py'>"
      ]
     },
     "execution_count": 101,
     "metadata": {},
     "output_type": "execute_result"
    }
   ],
   "source": [
    "from importlib import reload    # for reloading modules after they've been updated\n",
    "from scripts import csv_loader, portfolio_optimization\n",
    "reload(csv_loader)\n",
    "reload(portfolio_optimization)"
   ]
  },
  {
   "cell_type": "code",
   "execution_count": 102,
   "metadata": {},
   "outputs": [],
   "source": [
    "from scripts.csv_loader import CSVLoader\n",
    "from scripts.portfolio_optimization import PortfolioOptimization"
   ]
  },
  {
   "cell_type": "code",
   "execution_count": 103,
   "metadata": {},
   "outputs": [],
   "source": [
    "csv_loader = CSVLoader() # instantiate csvloader class"
   ]
  },
  {
   "cell_type": "code",
   "execution_count": 104,
   "metadata": {},
   "outputs": [
    {
     "name": "stdout",
     "output_type": "stream",
     "text": [
      "2025-03-02 21:34:30,718 - INFO - Converted 'Date' column to datetime in DataFrame 'tesla'.\n",
      "2025-03-02 21:34:30,723 - INFO - CSV file '../week 11 data/Data/Predicted Data/LSTM_Tesla_Forecast.csv' loaded successfully as 'tesla'.\n",
      "2025-03-02 21:34:30,726 - INFO - Shape of DataFrame 'tesla': (12, 2)\n",
      "2025-03-02 21:34:30,732 - INFO - Converted 'Date' column to datetime in DataFrame 'bnd'.\n",
      "2025-03-02 21:34:30,734 - INFO - CSV file '../week 11 data/Data/Predicted Data/LSTM_BND_Forecast.csv' loaded successfully as 'bnd'.\n",
      "2025-03-02 21:34:30,737 - INFO - Shape of DataFrame 'bnd': (12, 2)\n",
      "2025-03-02 21:34:30,745 - INFO - Converted 'Date' column to datetime in DataFrame 'spy'.\n",
      "2025-03-02 21:34:30,747 - INFO - CSV file '../week 11 data/Data/Predicted Data/LSTM_Tesla_Forecast.csv' loaded successfully as 'spy'.\n",
      "2025-03-02 21:34:30,748 - INFO - Shape of DataFrame 'spy': (12, 2)\n"
     ]
    }
   ],
   "source": [
    "# Load multiple CSV files\n",
    "csv_loader.load_csv(\"../week 11 data/Data/Predicted Data/LSTM_Tesla_Forecast.csv\", \"tesla\")\n",
    "csv_loader.load_csv(\"../week 11 data/Data/Predicted Data/LSTM_BND_Forecast.csv\", \"bnd\")\n",
    "csv_loader.load_csv(\"../week 11 data/Data/Predicted Data/LSTM_Tesla_Forecast.csv\", \"spy\")"
   ]
  },
  {
   "cell_type": "code",
   "execution_count": 105,
   "metadata": {},
   "outputs": [
    {
     "name": "stdout",
     "output_type": "stream",
     "text": [
      "2025-03-02 21:34:30,767 - INFO - Returning DataFrame 'tesla'.\n",
      "2025-03-02 21:34:30,769 - INFO - Returning DataFrame 'bnd'.\n",
      "2025-03-02 21:34:30,769 - INFO - Returning DataFrame 'spy'.\n"
     ]
    }
   ],
   "source": [
    "tesla = csv_loader.get_dataframe(\"tesla\")\n",
    "bnd = csv_loader.get_dataframe(\"bnd\")\n",
    "spy = csv_loader.get_dataframe(\"spy\")"
   ]
  },
  {
   "cell_type": "code",
   "execution_count": 106,
   "metadata": {},
   "outputs": [
    {
     "name": "stdout",
     "output_type": "stream",
     "text": [
      "2025-03-02 21:34:30,791 - INFO - Checking for missing values in DataFrame 'tesla'.\n",
      "2025-03-02 21:34:30,794 - INFO - Missing values check completed.\n",
      "2025-03-02 21:34:30,798 - INFO - Shape of DataFrame 'tesla': (12, 2)\n"
     ]
    },
    {
     "data": {
      "text/html": [
       "<div>\n",
       "<style scoped>\n",
       "    .dataframe tbody tr th:only-of-type {\n",
       "        vertical-align: middle;\n",
       "    }\n",
       "\n",
       "    .dataframe tbody tr th {\n",
       "        vertical-align: top;\n",
       "    }\n",
       "\n",
       "    .dataframe thead th {\n",
       "        text-align: right;\n",
       "    }\n",
       "</style>\n",
       "<table border=\"1\" class=\"dataframe\">\n",
       "  <thead>\n",
       "    <tr style=\"text-align: right;\">\n",
       "      <th></th>\n",
       "      <th>Column</th>\n",
       "      <th>Missing Values</th>\n",
       "      <th>Missing Percentage</th>\n",
       "      <th>Data Type</th>\n",
       "    </tr>\n",
       "  </thead>\n",
       "  <tbody>\n",
       "    <tr>\n",
       "      <th>0</th>\n",
       "      <td>Date</td>\n",
       "      <td>0</td>\n",
       "      <td>0.0</td>\n",
       "      <td>datetime64[ns]</td>\n",
       "    </tr>\n",
       "    <tr>\n",
       "      <th>1</th>\n",
       "      <td>Close</td>\n",
       "      <td>0</td>\n",
       "      <td>0.0</td>\n",
       "      <td>float64</td>\n",
       "    </tr>\n",
       "  </tbody>\n",
       "</table>\n",
       "</div>"
      ],
      "text/plain": [
       "  Column  Missing Values  Missing Percentage       Data Type\n",
       "0   Date               0                 0.0  datetime64[ns]\n",
       "1  Close               0                 0.0         float64"
      ]
     },
     "execution_count": 106,
     "metadata": {},
     "output_type": "execute_result"
    }
   ],
   "source": [
    "csv_loader.check_missing_values('tesla')"
   ]
  },
  {
   "cell_type": "code",
   "execution_count": 107,
   "metadata": {},
   "outputs": [
    {
     "name": "stdout",
     "output_type": "stream",
     "text": [
      "2025-03-02 21:34:30,825 - INFO - Checking for missing values in DataFrame 'bnd'.\n",
      "2025-03-02 21:34:30,826 - INFO - Missing values check completed.\n",
      "2025-03-02 21:34:30,831 - INFO - Shape of DataFrame 'bnd': (12, 2)\n"
     ]
    },
    {
     "data": {
      "text/html": [
       "<div>\n",
       "<style scoped>\n",
       "    .dataframe tbody tr th:only-of-type {\n",
       "        vertical-align: middle;\n",
       "    }\n",
       "\n",
       "    .dataframe tbody tr th {\n",
       "        vertical-align: top;\n",
       "    }\n",
       "\n",
       "    .dataframe thead th {\n",
       "        text-align: right;\n",
       "    }\n",
       "</style>\n",
       "<table border=\"1\" class=\"dataframe\">\n",
       "  <thead>\n",
       "    <tr style=\"text-align: right;\">\n",
       "      <th></th>\n",
       "      <th>Column</th>\n",
       "      <th>Missing Values</th>\n",
       "      <th>Missing Percentage</th>\n",
       "      <th>Data Type</th>\n",
       "    </tr>\n",
       "  </thead>\n",
       "  <tbody>\n",
       "    <tr>\n",
       "      <th>0</th>\n",
       "      <td>Date</td>\n",
       "      <td>0</td>\n",
       "      <td>0.0</td>\n",
       "      <td>datetime64[ns]</td>\n",
       "    </tr>\n",
       "    <tr>\n",
       "      <th>1</th>\n",
       "      <td>Close</td>\n",
       "      <td>0</td>\n",
       "      <td>0.0</td>\n",
       "      <td>float64</td>\n",
       "    </tr>\n",
       "  </tbody>\n",
       "</table>\n",
       "</div>"
      ],
      "text/plain": [
       "  Column  Missing Values  Missing Percentage       Data Type\n",
       "0   Date               0                 0.0  datetime64[ns]\n",
       "1  Close               0                 0.0         float64"
      ]
     },
     "execution_count": 107,
     "metadata": {},
     "output_type": "execute_result"
    }
   ],
   "source": [
    "csv_loader.check_missing_values('bnd')"
   ]
  },
  {
   "cell_type": "code",
   "execution_count": 108,
   "metadata": {},
   "outputs": [
    {
     "name": "stdout",
     "output_type": "stream",
     "text": [
      "2025-03-02 21:34:30,861 - INFO - Checking for missing values in DataFrame 'spy'.\n",
      "2025-03-02 21:34:30,866 - INFO - Missing values check completed.\n",
      "2025-03-02 21:34:30,867 - INFO - Shape of DataFrame 'spy': (12, 2)\n"
     ]
    },
    {
     "data": {
      "text/html": [
       "<div>\n",
       "<style scoped>\n",
       "    .dataframe tbody tr th:only-of-type {\n",
       "        vertical-align: middle;\n",
       "    }\n",
       "\n",
       "    .dataframe tbody tr th {\n",
       "        vertical-align: top;\n",
       "    }\n",
       "\n",
       "    .dataframe thead th {\n",
       "        text-align: right;\n",
       "    }\n",
       "</style>\n",
       "<table border=\"1\" class=\"dataframe\">\n",
       "  <thead>\n",
       "    <tr style=\"text-align: right;\">\n",
       "      <th></th>\n",
       "      <th>Column</th>\n",
       "      <th>Missing Values</th>\n",
       "      <th>Missing Percentage</th>\n",
       "      <th>Data Type</th>\n",
       "    </tr>\n",
       "  </thead>\n",
       "  <tbody>\n",
       "    <tr>\n",
       "      <th>0</th>\n",
       "      <td>Date</td>\n",
       "      <td>0</td>\n",
       "      <td>0.0</td>\n",
       "      <td>datetime64[ns]</td>\n",
       "    </tr>\n",
       "    <tr>\n",
       "      <th>1</th>\n",
       "      <td>Close</td>\n",
       "      <td>0</td>\n",
       "      <td>0.0</td>\n",
       "      <td>float64</td>\n",
       "    </tr>\n",
       "  </tbody>\n",
       "</table>\n",
       "</div>"
      ],
      "text/plain": [
       "  Column  Missing Values  Missing Percentage       Data Type\n",
       "0   Date               0                 0.0  datetime64[ns]\n",
       "1  Close               0                 0.0         float64"
      ]
     },
     "execution_count": 108,
     "metadata": {},
     "output_type": "execute_result"
    }
   ],
   "source": [
    "csv_loader.check_missing_values('spy')"
   ]
  },
  {
   "cell_type": "code",
   "execution_count": 109,
   "metadata": {},
   "outputs": [],
   "source": [
    "portfolio = PortfolioOptimization(tesla, bnd, spy) # instantiate portfolio optimization class"
   ]
  },
  {
   "cell_type": "code",
   "execution_count": 110,
   "metadata": {},
   "outputs": [
    {
     "name": "stdout",
     "output_type": "stream",
     "text": [
      "Optimized Weights: [0.5 0.  0.5]\n",
      "Risk Metrics: {'Avg Return': 0.0921038425808749, 'Volatility': 0.061153869777694124, 'Sharpe Ratio': 1.1790560898760125, 'VaR (95%)': -0.19409727714834105}\n"
     ]
    },
    {
     "data": {
      "image/png": "[encoded data removed]",
      "text/plain": [
       "<Figure size 1000x600 with 1 Axes>"
      ]
     },
     "metadata": {},
     "output_type": "display_data"
    }
   ],
   "source": [
    "# Summarize all Results\n",
    "portfolio.summarize_results()"
   ]
  },
  {
   "cell_type": "markdown",
   "metadata": {},
   "source": [
    "The portfolio has **50% in Tesla (TSLA) and 50% in S&P 500 ETF (SPY), with 0% in bonds (BND)**.  \n",
    "\n",
    "### **📊 Interpretation of Optimization Results**\n",
    "1. **Optimized Weights:** `[0.5, 0.0, 0.5]`  \n",
    "   - **50% in TSLA**  \n",
    "   - **50% in SPY**  \n",
    "   - **0% in BND** → Bonds were excluded because they likely reduced expected returns.  \n",
    "\n",
    "2. **Risk-Return Metrics:**  \n",
    "   - **Average Return:** `9.21%` → Expected annualized return.  \n",
    "   - **Volatility:** `6.12%` → Standard deviation of returns, indicating risk.  \n",
    "   - **Sharpe Ratio:** `1.18` → Good risk-adjusted performance (higher is better).  \n",
    "   - **Value at Risk (VaR 95%):** `-19.41%` → Worst expected loss in a **bad month (5% probability).**  \n",
    "\n",
    "### **📈 Insights**\n",
    "- The portfolio **maximizes return** while balancing risk.  \n",
    "- **Bonds (BND) are excluded** since they lower overall return but provide stability.  \n",
    "- **Sharpe Ratio >1** → Decent trade-off between risk and return.  \n",
    "- **Higher VaR (-19.41%)** → The portfolio has some downside risk.  \n",
    "\n",
    "---\n",
    "\n",
    "### ** Next Steps**\n",
    "1. **Adjust Risk Tolerance:** If you want lower risk, consider including **some BND** to reduce volatility.  \n",
    "2. **Stress Testing:** Simulate different market conditions (crashes, bull runs).  \n",
    "3. **Compare Other Portfolios:** Run optimizations with different constraints (e.g., risk-minimized vs. return-maximized).  \n",
    "\n"
   ]
  },
  {
   "cell_type": "code",
   "execution_count": null,
   "metadata": {},
   "outputs": [],
   "source": []
  }
 ],
 "metadata": {
  "kernelspec": {
   "display_name": "z_env",
   "language": "python",
   "name": "python3"
  },
  "language_info": {
   "codemirror_mode": {
    "name": "ipython",
    "version": 3
   },
   "file_extension": ".py",
   "mimetype": "text/x-python",
   "name": "python",
   "nbconvert_exporter": "python",
   "pygments_lexer": "ipython3",
   "version": "3.12.3"
  }
 },
 "nbformat": 4,
 "nbformat_minor": 2
}
